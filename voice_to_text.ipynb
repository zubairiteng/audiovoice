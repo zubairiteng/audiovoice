{
  "nbformat": 4,
  "nbformat_minor": 0,
  "metadata": {
    "colab": {
      "provenance": []
    },
    "kernelspec": {
      "name": "python3",
      "display_name": "Python 3"
    },
    "language_info": {
      "name": "python"
    }
  },
  "cells": [
    {
      "cell_type": "code",
      "execution_count": null,
      "metadata": {
        "id": "ESU9I5t9yg7t"
      },
      "outputs": [],
      "source": []
    },
    {
      "cell_type": "code",
      "source": [
        "pip install SpeechRecognition langdetect gtts deep-translator\n"
      ],
      "metadata": {
        "colab": {
          "base_uri": "https://localhost:8080/"
        },
        "id": "RMP_TcgP2PEH",
        "outputId": "1f16d6a9-c884-445b-b1d5-f00df1a61cff"
      },
      "execution_count": 5,
      "outputs": [
        {
          "output_type": "stream",
          "name": "stdout",
          "text": [
            "Requirement already satisfied: SpeechRecognition in /usr/local/lib/python3.10/dist-packages (3.11.0)\n",
            "Requirement already satisfied: langdetect in /usr/local/lib/python3.10/dist-packages (1.0.9)\n",
            "Requirement already satisfied: gtts in /usr/local/lib/python3.10/dist-packages (2.5.4)\n",
            "Collecting deep-translator\n",
            "  Downloading deep_translator-1.11.4-py3-none-any.whl.metadata (30 kB)\n",
            "Requirement already satisfied: requests>=2.26.0 in /usr/local/lib/python3.10/dist-packages (from SpeechRecognition) (2.32.3)\n",
            "Requirement already satisfied: typing-extensions in /usr/local/lib/python3.10/dist-packages (from SpeechRecognition) (4.12.2)\n",
            "Requirement already satisfied: six in /usr/local/lib/python3.10/dist-packages (from langdetect) (1.16.0)\n",
            "Requirement already satisfied: click<8.2,>=7.1 in /usr/local/lib/python3.10/dist-packages (from gtts) (8.1.7)\n",
            "Requirement already satisfied: beautifulsoup4<5.0.0,>=4.9.1 in /usr/local/lib/python3.10/dist-packages (from deep-translator) (4.12.3)\n",
            "Requirement already satisfied: soupsieve>1.2 in /usr/local/lib/python3.10/dist-packages (from beautifulsoup4<5.0.0,>=4.9.1->deep-translator) (2.6)\n",
            "Requirement already satisfied: charset-normalizer<4,>=2 in /usr/local/lib/python3.10/dist-packages (from requests>=2.26.0->SpeechRecognition) (3.4.0)\n",
            "Requirement already satisfied: idna<4,>=2.5 in /usr/local/lib/python3.10/dist-packages (from requests>=2.26.0->SpeechRecognition) (2.10)\n",
            "Requirement already satisfied: urllib3<3,>=1.21.1 in /usr/local/lib/python3.10/dist-packages (from requests>=2.26.0->SpeechRecognition) (2.2.3)\n",
            "Requirement already satisfied: certifi>=2017.4.17 in /usr/local/lib/python3.10/dist-packages (from requests>=2.26.0->SpeechRecognition) (2024.8.30)\n",
            "Downloading deep_translator-1.11.4-py3-none-any.whl (42 kB)\n",
            "\u001b[2K   \u001b[90m━━━━━━━━━━━━━━━━━━━━━━━━━━━━━━━━━━━━━━━━\u001b[0m \u001b[32m42.3/42.3 kB\u001b[0m \u001b[31m1.5 MB/s\u001b[0m eta \u001b[36m0:00:00\u001b[0m\n",
            "\u001b[?25hInstalling collected packages: deep-translator\n",
            "Successfully installed deep-translator-1.11.4\n"
          ]
        }
      ]
    },
    {
      "cell_type": "code",
      "source": [
        "import speech_recognition as sr\n",
        "\n",
        "recognizer = sr.Recognizer()\n",
        "with sr.AudioFile(\"voice1.wav\") as source:\n",
        "    audio = recognizer.record(source)\n",
        "try:\n",
        "    print(\"Text:\", recognizer.recognize_google(audio))\n",
        "except sr.UnknownValueError:\n",
        "    print(\"Could not understand audio\")\n"
      ],
      "metadata": {
        "colab": {
          "base_uri": "https://localhost:8080/"
        },
        "id": "qhafNtdxziot",
        "outputId": "9acb32e4-b879-408b-e8e3-cbf68b2a138e"
      },
      "execution_count": null,
      "outputs": [
        {
          "output_type": "stream",
          "name": "stdout",
          "text": [
            "Text: by far the most intelligent robot vacuum cleaner I've ever seen partly because it's better at cleaning the things got an extendable side brush and mop to get into hard to reach Corners it's got dual rubber brushes underneath tested for 99% hair pickup on hard to clean carpets and things more and empties its own Dustbin at its dock by itself but the craziest thing is that it now uses 3D depth sensors that can sample 21 times faster than normal robot vacuums a whole array of precise outlines of the objects around it and even a full-on RGB camera around not just the walls and the key features that there is a clump of wires here on the floor it will clean around them without getting tangled in them and then it will even mark them on its map of the room so that you can see the bits that you need to pick up and it does all of this while being one of these slimmest robots on the market which means it can fit underneath basically anything\n"
          ]
        }
      ]
    },
    {
      "cell_type": "code",
      "source": [
        "import speech_recognition as sr\n",
        "from langdetect import detect, DetectorFactory\n",
        "from gtts import gTTS\n",
        "from deep_translator import GoogleTranslator\n",
        "import os\n",
        "\n",
        "# Set langdetect seed for consistent results\n",
        "DetectorFactory.seed = 0\n",
        "\n",
        "def detect_language_and_translate(audio_file):\n",
        "    recognizer = sr.Recognizer()\n",
        "\n",
        "    with sr.AudioFile(audio_file) as source:\n",
        "        print(\"Processing audio...\")\n",
        "        audio = recognizer.record(source)\n",
        "\n",
        "    try:\n",
        "        # First try recognizing speech in Urdu\n",
        "        try:\n",
        "            print(\"Trying to recognize speech in Urdu...\")\n",
        "            text = recognizer.recognize_google(audio, language='ur')\n",
        "            print(f\"Recognized Text (Urdu): '{text}'\")\n",
        "        except sr.UnknownValueError:\n",
        "            print(\"Urdu recognition failed. Trying English...\")\n",
        "            text = recognizer.recognize_google(audio, language='en')\n",
        "            print(f\"Recognized Text (English): '{text}'\")\n",
        "\n",
        "        # Handle empty or short text\n",
        "        if not text or len(text) < 5:\n",
        "            print(\"Text is too short for language detection. Assuming English.\")\n",
        "            detected_lang = 'en'\n",
        "        else:\n",
        "            detected_lang = detect(text)\n",
        "        print(f\"Detected Language: {detected_lang}\")\n",
        "\n",
        "        # Translate based on detected language\n",
        "        if detected_lang == \"ur\":\n",
        "            translated_text = GoogleTranslator(source='ur', target='en').translate(text)\n",
        "            print(f\"Translated to English: {translated_text}\")\n",
        "            tts = gTTS(translated_text, lang='en')\n",
        "            output_file = \"translated_to_english.mp3\"\n",
        "        else:\n",
        "            translated_text = GoogleTranslator(source='en', target='ur').translate(text)\n",
        "            print(f\"Translated to Urdu: {translated_text}\")\n",
        "            tts = gTTS(translated_text, lang='ur')\n",
        "            output_file = \"translated_to_urdu.mp3\"\n",
        "\n",
        "        # Save and play the translated voice\n",
        "        tts.save(output_file)\n",
        "        print(f\"Saved voice output to {output_file}\")\n",
        "        os.system(f\"start {output_file}\")  # For Windows; use 'open' or 'xdg-open' on Mac/Linux\n",
        "\n",
        "    except sr.UnknownValueError:\n",
        "        print(\"Could not understand the audio.\")\n",
        "    except sr.RequestError as e:\n",
        "        print(f\"Speech recognition service error: {e}\")\n",
        "\n"
      ],
      "metadata": {
        "id": "bh5TDMB02kV2"
      },
      "execution_count": 21,
      "outputs": []
    },
    {
      "cell_type": "code",
      "source": [
        "# Example usage ofr english voice\n",
        "audio_path = \"voice1.wav\"  # Replace with the path to your audio file\n",
        "detect_language_and_translate(audio_path)"
      ],
      "metadata": {
        "colab": {
          "base_uri": "https://localhost:8080/"
        },
        "id": "TAhz0DvPZL58",
        "outputId": "42a7a90d-b454-4cd5-e155-c49cf41f4781"
      },
      "execution_count": 22,
      "outputs": [
        {
          "output_type": "stream",
          "name": "stdout",
          "text": [
            "Processing audio...\n",
            "Trying to recognize speech in Urdu...\n",
            "Urdu recognition failed. Trying English...\n",
            "Recognized Text (English): 'by far the most intelligent robot vacuum cleaner I've ever seen partly because it's better at cleaning the things got an extendable side brush and mop to get into hard to reach Corners it's got dual rubber brushes underneath tested for 99% hair pickup on hard to clean carpets and things more and empties its own Dustbin at its dock by itself but the craziest thing is that it now uses 3D depth sensors that can sample 21 times faster than normal robot vacuums a whole array of precise outlines of the objects around it and even a full-on RGB camera around not just the walls and the key features that there is a clump of wires here on the floor it will clean around them without getting tangled in them and then it will even mark them on its map of the room so that you can see the bits that you need to pick up and it does all of this while being one of these slimmest robots on the market which means it can fit underneath basically anything'\n",
            "Detected Language: en\n",
            "Translated to Urdu: اب تک کا سب سے ذہین روبوٹ ویکیوم کلینر جسے میں نے جزوی طور پر دیکھا ہے کیونکہ چیزوں کو صاف کرنے میں یہ بہتر ہے کہ کونے تک پہنچنے کے لیے ایک قابل توسیع سائیڈ برش اور ایم او پی مل جائے اس کے نیچے ڈوئل ربڑ برش ملے ہیں جن کا 99 فیصد بال اٹھانے کے لیے ٹیسٹ کیا گیا ہے۔ قالینوں اور چیزوں کو زیادہ صاف کرتا ہے اور اپنے ڈسٹ بن کو اپنی گودی میں خود ہی خالی کرتا ہے لیکن سب سے عجیب بات یہ ہے کہ وہ اب استعمال کرتا ہے۔ 3D گہرائی کے سینسر جو عام روبوٹ کے مقابلے میں 21 گنا زیادہ تیزی سے نمونے لے سکتے ہیں اس کے ارد گرد موجود اشیاء کے عین مطابق خاکہ اور یہاں تک کہ ایک مکمل آر جی بی کیمرہ نہ صرف دیواروں کے ارد گرد ویکیوم کر سکتے ہیں اور ان اہم خصوصیات کے ساتھ کہ یہاں تاروں کا ایک جھنڈ موجود ہے۔ فرش کو یہ ان میں الجھے بغیر ان کے ارد گرد صاف کرے گا اور پھر یہ ان کو کمرے کے نقشے پر بھی نشان زد کر دے گا تاکہ آپ وہ بٹس دیکھ سکیں جو آپ کو چننے کی ضرورت ہے۔ اوپر اور یہ مارکیٹ میں ان سب سے پتلے روبوٹ میں سے ایک ہوتے ہوئے یہ سب کچھ کرتا ہے جس کا مطلب ہے کہ یہ بنیادی طور پر کسی بھی چیز کے نیچے فٹ ہو سکتا ہے۔\n",
            "Saved voice output to translated_to_urdu.mp3\n"
          ]
        }
      ]
    },
    {
      "cell_type": "code",
      "source": [
        "# Example usage urdu\n",
        "audio_path = \"voice2.wav\"  # Replace with the path to your audio file\n",
        "detect_language_and_translate(audio_path)"
      ],
      "metadata": {
        "colab": {
          "base_uri": "https://localhost:8080/"
        },
        "id": "Jey2QDhEaeZn",
        "outputId": "d40146a0-0c92-47ea-f86c-437e14070040"
      },
      "execution_count": 23,
      "outputs": [
        {
          "output_type": "stream",
          "name": "stdout",
          "text": [
            "Processing audio...\n",
            "Trying to recognize speech in Urdu...\n",
            "Recognized Text (Urdu): 'شہر قصور پاکستان کے بڑے ضلعوں میں سے ایک ہے 1860 میں یہاں پے سکھر اج قائم ہوا تھا کی نگری قصور اپنے کھانوں کی وجہ سے پوری دنیا میں بے حد مقبول ہے قصور عربی زبان کا لفظ ہے جس کے معنی ہے محلات یکم جولائی 1976 کو قصور کو ضلع کا درجہ ملا تھا اس سے پہلے یہ ضلع لاہور کا حصہ تھا پورے ضلع قصور کا کل رقبہ تقریبا 4000 سکوائر کلومیٹر ہے یہ پاکستان انڈیا بارڈر گنڈا سنگھ سے تقریبا 13 کلومیٹر کے فاصلے پر موجود ہے اور اس کے شمال میں شہر لاہور تقریبا پچاس کلومیٹر کے فاصلے پر موجود ہے یہ بابا بلھے شاہ رحمتہ اللہ علیہ کی بدولت ہی مشہور ہے قصوری فالودہ رہو مچھلی امرت سے اور اس کے ساتھ ساتھ مٹھائیاں اور صف اول میں قصوری میتھی شمار کی جاتی ہے جو پوری دنیا میں بے حد مقبول ہے اور قصور کا لٹریسی ریٹ مردوں میں تقریبا 70 فیصد اور عورتوں میں تقریبا 53 فیصد ہے ضلع کسور کی چار تحصیلیں ہیں جونیا پتوکی کوٹ رادھا کشن اور قصور اس میں 125 کونسلیں 641 گاؤں اور چار نیشنل'\n",
            "Detected Language: ur\n",
            "Translated to English: Kasur city is one of the major districts of Pakistan. In 1860, Sukkur was established here. The city of Kasur is very popular all over the world because of its cuisine. Kasur is an Arabic word which means palaces. Kasur was given the status of a district on July 1, 1976. Before that, it was part of Lahore district. The total area of ​​the entire Kasur district is about 4000 square kilometers. It is located about 13 kilometers from the Pakistan-India border, Ganda Singh, and the city of Lahore is about fifty kilometers to its north. It is famous only because of Baba Bulleh Shah (may Allah be pleased with him). Kasuri Falooda is made of fish nectar and along with it, sweets and Kasuri methi are considered very popular all over the world. The literacy rate of Kasur is about 70 percent among men and about 53 percent among women. Kasur district has four tehsils, Junia, Pattoki, Kot, Radha, Kishan and Kasur. It has 125 councils, 641 villages and four national\n",
            "Saved voice output to translated_to_english.mp3\n"
          ]
        }
      ]
    }
  ]
}